{
 "cells": [
  {
   "attachments": {},
   "cell_type": "markdown",
   "metadata": {},
   "source": [
    "# Depth first search"
   ]
  },
  {
   "cell_type": "markdown",
   "metadata": {},
   "source": [
    "**Question:** On its intergalactic path, the research spacecraft found traces of life outside the solar system and collected samples of unknown DNA. The collected samples represent DNA fragments of $4$ nucleotides each that overlap on the first or last character."
   ]
  },
  {
   "cell_type": "markdown",
   "metadata": {},
   "source": [
    "**Example:** $AGAC~\\vert~CGTG~\\vert~GAAT$"
   ]
  },
  {
   "cell_type": "markdown",
   "metadata": {},
   "source": [
    "Write a program that uses `Depth First Search` strategy to find the sequence of fragments that, by overlapping on the first/last character, give the complete DNA sequence using all the fragments."
   ]
  },
  {
   "cell_type": "markdown",
   "metadata": {},
   "source": [
    "**Input:** $\\left['CATG', 'TCGA', 'ACGG', 'GCGG', 'GATC'\\right]$\n",
    "\n",
    "**Output:**\n",
    "The order of the fragments: $\\left['TCGA', 'ACGG', 'GCGG', 'GATC', 'CATG'\\right]$\n",
    "\n",
    "**Complete sequence:** $TCGACGGCGGATCATG$"
   ]
  },
  {
   "cell_type": "code",
   "execution_count": 2,
   "metadata": {},
   "outputs": [],
   "source": [
    "class Graph:\n",
    "    def __init__(self, fragments):\n",
    "        self.fragments = fragments\n",
    "        self.num_fragments = len(fragments)\n",
    "        \n",
    "    def __str__(self):\n",
    "        return str(self.adjacency_list)\n",
    "    \n",
    "    # The function finds all adjacent fragments \n",
    "    # of the current fragment\n",
    "    def get_neighbors(self, fragment):\n",
    "        neighbors = []\n",
    "        for w in self.fragments:\n",
    "            if w[0] == fragment[-1]:\n",
    "                neighbors.append((w,1))\n",
    "        return neighbors\n",
    "\n",
    "    \n",
    "    # The function tries to start a sequence \n",
    "    # with each fragment and finds the order \n",
    "    # of the other sequences, if any, \n",
    "    # by using the DFS strategy.\n",
    "    def solve(self):\n",
    "        for fragment in self.fragments:\n",
    "            path = self.dfs(fragment)\n",
    "            if path != None:\n",
    "                return path\n",
    "            \n",
    "        \n",
    "    def dfs(self, start):\n",
    "        visited = {start}\n",
    "        path = [start]\n",
    "        \n",
    "        while len(path) > 0:\n",
    "            n = path[-1]\n",
    "\n",
    "            if len(visited) == self.num_fragments:\n",
    "                return path\n",
    "            \n",
    "            has_unvisited = False\n",
    "            \n",
    "            for (m, weight) in self.get_neighbors(n):\n",
    "                if m not in visited:\n",
    "                    visited.add(m)\n",
    "                    path.append(m)\n",
    "                    has_unvisited = True\n",
    "                    break\n",
    "                    \n",
    "            if not has_unvisited:\n",
    "                path.pop()\n",
    "        \n",
    "        return None"
   ]
  },
  {
   "cell_type": "code",
   "execution_count": 3,
   "metadata": {},
   "outputs": [
    {
     "name": "stdout",
     "output_type": "stream",
     "text": [
      "The order of the fragments: ['TCGA', 'ACGG', 'GCGG', 'GATC', 'CATG']\n",
      "Complete sequence: TCGACGGCGGATCATG\n"
     ]
    }
   ],
   "source": [
    "fragments = ['CATG','TCGA', 'ACGG', 'GCGG', 'GATC']\n",
    "g = Graph(fragments)\n",
    "path = g.solve()\n",
    "\n",
    "n = len(path)\n",
    "sequence = path[0]\n",
    "for i in range(1,n):\n",
    "    sequence += path[i][1:]\n",
    "    \n",
    "print('The order of the fragments: {}'.format(path))\n",
    "print('Complete sequence: {}'.format(sequence))"
   ]
  }
 ],
 "metadata": {
  "kernelspec": {
   "display_name": "Python 3.8.10 64-bit",
   "language": "python",
   "name": "python3"
  },
  "language_info": {
   "codemirror_mode": {
    "name": "ipython",
    "version": 3
   },
   "file_extension": ".py",
   "mimetype": "text/x-python",
   "name": "python",
   "nbconvert_exporter": "python",
   "pygments_lexer": "ipython3",
   "version": "3.8.10"
  },
  "vscode": {
   "interpreter": {
    "hash": "916dbcbb3f70747c44a77c7bcd40155683ae19c65e1c03b4aa3499c5328201f1"
   }
  }
 },
 "nbformat": 4,
 "nbformat_minor": 4
}
