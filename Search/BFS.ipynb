{
 "cells": [
  {
   "attachments": {},
   "cell_type": "markdown",
   "metadata": {},
   "source": [
    "# Breadth first search"
   ]
  },
  {
   "cell_type": "markdown",
   "metadata": {},
   "source": [
    "It is the year $2119$. The planets of the solar system are divided between two fractions of humans - Earthlings and Martians. The Earth spacecraft was sent to the edge of the Solar System to count the asteroids that threaten to collide with Earth. As Earthlings do not want the Martians to intercept the information, the spacecraft sends the data in encrypted form as a string of $8$ characters. Encryption is performed by sub-string inversions, and the smallest number of inversions required to go from a message character string to a sorted character string is a secret message."
   ]
  },
  {
   "cell_type": "markdown",
   "metadata": {},
   "source": [
    "**Example:**\n",
    "\n",
    "$A~B~C~D~\\vert~H~G~F~E~\\vert~\\rightarrow~A~B~C~D~\\vert~E~F~G~H~\\vert$\n",
    "\n",
    "The minimum number of inversions is $1$, so the secret message is $1$."
   ]
  },
  {
   "cell_type": "markdown",
   "metadata": {},
   "source": [
    "Write a program that uses `Breadth First Search` strategy to reveal a secret message, i.e., the least number of inversions needed to get a sorted character string from the received encrypted message."
   ]
  },
  {
   "cell_type": "markdown",
   "metadata": {},
   "source": [
    "**Input:**\n",
    " $H~  D~\\vert~ F~  G~  A~\\vert~ E~  B~  C$\n",
    "\n",
    "**Inversions (4):**\n",
    "$$\\vert H~  D~  A~\\vert~ G~  F~  E~  B~  C~\\\\\n",
    " ~A ~ D ~\\vert H~  G~  F~  E~  B~  C~\\vert \\\\\n",
    " ~A ~\\vert~ D~  C~  B~\\vert~ E~  F~  G~  H~ \\\\ \n",
    " ~A ~B ~ C~  D~  E~  F~  G~  H~$$\n",
    "\n",
    "**Output:**\n",
    "Secret message: $4$"
   ]
  },
  {
   "cell_type": "code",
   "execution_count": 46,
   "metadata": {},
   "outputs": [],
   "source": [
    "from collections import deque\n",
    "\n",
    "class Graph:\n",
    "    # The function returns a list of adjacent current state states\n",
    "    def get_neighbors(self, v):\n",
    "        n = len(v)\n",
    "        neighbors = []\n",
    "        # === YOUR CODE === #\n",
    "        for i in range(0,n - 1):          #Iterate trough out the length of v(from 0 to 6)\n",
    "            str_len = i + 2             #Increase by one the number of substrings we want to inverse \n",
    "            #print(\"{} position: {}\".format(i,str_len))  \n",
    "            for string in range(0,n - 1):     #For each substring in v\n",
    "                neighbor = v[:]     #Save a compy of v\n",
    "                neighbor[string : string + str_len] = neighbor[string : string + str_len][::-1] #replace the subset with the inverse subset\n",
    "                neighbors.append((neighbor, 1))     #Add the new permutation to the list\n",
    "        \n",
    "        return neighbors\n",
    "    \n",
    "    # The function finds the path from start \n",
    "    # state to stop state using BFS search\n",
    "    def bfs(self, start, stop):\n",
    "        # === YOUR CODE === #\n",
    "        path = []\n",
    "        S = [start]\n",
    "        parent = {}\n",
    "        # By casting into a string we obtain a series\n",
    "        parent[str(start)] = start\n",
    "        \n",
    "        while len(S) > 0:\n",
    "        # === YOUR CODE === #\n",
    "            n = S[0]        \n",
    "            S.remove(n)      \n",
    "            \n",
    "            if n == stop :\n",
    "                path.append(n)\n",
    "                while n != start:\n",
    "                    n = parent[str(n)]\n",
    "                    path.append(n)\n",
    "                return path[::-1]\n",
    "                \n",
    "            for (m, weight) in self.get_neighbors(n):\n",
    "                if str(m) not in parent:\n",
    "                    S.append(m)\n",
    "                    parent[str(m)] = n\n",
    "        \n",
    "        print('The requested path was not found')\n",
    "        return None\n",
    "\n",
    "    "
   ]
  },
  {
   "cell_type": "code",
   "execution_count": 47,
   "metadata": {},
   "outputs": [
    {
     "name": "stdout",
     "output_type": "stream",
     "text": [
      "['H', 'D', 'F', 'G', 'A', 'E', 'B', 'C']\n",
      "['H', 'D', 'A', 'G', 'F', 'E', 'B', 'C']\n",
      "['A', 'D', 'H', 'G', 'F', 'E', 'B', 'C']\n",
      "['A', 'D', 'C', 'B', 'E', 'F', 'G', 'H']\n",
      "['A', 'B', 'C', 'D', 'E', 'F', 'G', 'H']\n",
      "\n",
      "Secret message is: 4\n"
     ]
    }
   ],
   "source": [
    "g = Graph()\n",
    "\n",
    "path = g.bfs(['H', 'D', 'F', 'G', 'A', 'E', 'B', 'C'], ['A', 'B', 'C', 'D', 'E', 'F', 'G', 'H'])\n",
    "\n",
    "for state in path:\n",
    "    print(state)\n",
    "\n",
    "print()\n",
    "print('Secret message is: {}'.format(len(path) - 1))"
   ]
  },
  {
   "cell_type": "code",
   "execution_count": 42,
   "metadata": {},
   "outputs": [
    {
     "name": "stdout",
     "output_type": "stream",
     "text": [
      "[1, 2, 3, 4, 5]\n",
      "[5, 4, 3, 2, 1]\n",
      "[]\n",
      "[5, 4]\n"
     ]
    }
   ],
   "source": [
    "list = [1,2,3,4,5]\n",
    "print(list)\n",
    "print(list[::-1])\n",
    "print(list[2:4:-1])\n",
    "print(list[4:2:-1])"
   ]
  },
  {
   "cell_type": "code",
   "execution_count": 48,
   "metadata": {},
   "outputs": [
    {
     "name": "stdout",
     "output_type": "stream",
     "text": [
      "[(['D', 'H', 'F', 'G', 'A', 'E', 'B', 'C'], 1), (['H', 'F', 'D', 'G', 'A', 'E', 'B', 'C'], 1), (['H', 'D', 'G', 'F', 'A', 'E', 'B', 'C'], 1), (['H', 'D', 'F', 'A', 'G', 'E', 'B', 'C'], 1), (['H', 'D', 'F', 'G', 'E', 'A', 'B', 'C'], 1), (['H', 'D', 'F', 'G', 'A', 'B', 'E', 'C'], 1), (['H', 'D', 'F', 'G', 'A', 'E', 'C', 'B'], 1), (['F', 'D', 'H', 'G', 'A', 'E', 'B', 'C'], 1), (['H', 'G', 'F', 'D', 'A', 'E', 'B', 'C'], 1), (['H', 'D', 'A', 'G', 'F', 'E', 'B', 'C'], 1), (['H', 'D', 'F', 'E', 'A', 'G', 'B', 'C'], 1), (['H', 'D', 'F', 'G', 'B', 'E', 'A', 'C'], 1), (['H', 'D', 'F', 'G', 'A', 'C', 'B', 'E'], 1), (['H', 'D', 'F', 'G', 'A', 'E', 'C', 'B'], 1), (['G', 'F', 'D', 'H', 'A', 'E', 'B', 'C'], 1), (['H', 'A', 'G', 'F', 'D', 'E', 'B', 'C'], 1), (['H', 'D', 'E', 'A', 'G', 'F', 'B', 'C'], 1), (['H', 'D', 'F', 'B', 'E', 'A', 'G', 'C'], 1), (['H', 'D', 'F', 'G', 'C', 'B', 'E', 'A'], 1), (['H', 'D', 'F', 'G', 'A', 'C', 'B', 'E'], 1), (['H', 'D', 'F', 'G', 'A', 'E', 'C', 'B'], 1), (['A', 'G', 'F', 'D', 'H', 'E', 'B', 'C'], 1), (['H', 'E', 'A', 'G', 'F', 'D', 'B', 'C'], 1), (['H', 'D', 'B', 'E', 'A', 'G', 'F', 'C'], 1), (['H', 'D', 'F', 'C', 'B', 'E', 'A', 'G'], 1), (['H', 'D', 'F', 'G', 'C', 'B', 'E', 'A'], 1), (['H', 'D', 'F', 'G', 'A', 'C', 'B', 'E'], 1), (['H', 'D', 'F', 'G', 'A', 'E', 'C', 'B'], 1), (['E', 'A', 'G', 'F', 'D', 'H', 'B', 'C'], 1), (['H', 'B', 'E', 'A', 'G', 'F', 'D', 'C'], 1), (['H', 'D', 'C', 'B', 'E', 'A', 'G', 'F'], 1), (['H', 'D', 'F', 'C', 'B', 'E', 'A', 'G'], 1), (['H', 'D', 'F', 'G', 'C', 'B', 'E', 'A'], 1), (['H', 'D', 'F', 'G', 'A', 'C', 'B', 'E'], 1), (['H', 'D', 'F', 'G', 'A', 'E', 'C', 'B'], 1), (['B', 'E', 'A', 'G', 'F', 'D', 'H', 'C'], 1), (['H', 'C', 'B', 'E', 'A', 'G', 'F', 'D'], 1), (['H', 'D', 'C', 'B', 'E', 'A', 'G', 'F'], 1), (['H', 'D', 'F', 'C', 'B', 'E', 'A', 'G'], 1), (['H', 'D', 'F', 'G', 'C', 'B', 'E', 'A'], 1), (['H', 'D', 'F', 'G', 'A', 'C', 'B', 'E'], 1), (['H', 'D', 'F', 'G', 'A', 'E', 'C', 'B'], 1), (['C', 'B', 'E', 'A', 'G', 'F', 'D', 'H'], 1), (['H', 'C', 'B', 'E', 'A', 'G', 'F', 'D'], 1), (['H', 'D', 'C', 'B', 'E', 'A', 'G', 'F'], 1), (['H', 'D', 'F', 'C', 'B', 'E', 'A', 'G'], 1), (['H', 'D', 'F', 'G', 'C', 'B', 'E', 'A'], 1), (['H', 'D', 'F', 'G', 'A', 'C', 'B', 'E'], 1), (['H', 'D', 'F', 'G', 'A', 'E', 'C', 'B'], 1)]\n"
     ]
    }
   ],
   "source": [
    "g = Graph()\n",
    "print(g.get_neighbors(['H', 'D', 'F', 'G', 'A', 'E', 'B', 'C']))"
   ]
  }
 ],
 "metadata": {
  "kernelspec": {
   "display_name": "Python 3.8.10 64-bit",
   "language": "python",
   "name": "python3"
  },
  "language_info": {
   "codemirror_mode": {
    "name": "ipython",
    "version": 3
   },
   "file_extension": ".py",
   "mimetype": "text/x-python",
   "name": "python",
   "nbconvert_exporter": "python",
   "pygments_lexer": "ipython3",
   "version": "3.8.10"
  },
  "vscode": {
   "interpreter": {
    "hash": "916dbcbb3f70747c44a77c7bcd40155683ae19c65e1c03b4aa3499c5328201f1"
   }
  }
 },
 "nbformat": 4,
 "nbformat_minor": 4
}
